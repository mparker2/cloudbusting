{
 "cells": [
  {
   "cell_type": "markdown",
   "metadata": {},
   "source": [
    "# Testing supervised classifiers with output of Fmask"
   ]
  },
  {
   "cell_type": "code",
   "execution_count": 41,
   "metadata": {
    "collapsed": true
   },
   "outputs": [],
   "source": [
    "import numpy as np\n",
    "import rasterio\n",
    "from scipy.stats import mode\n",
    "from sklearn.feature_extraction.image import extract_patches_2d\n",
    "from sklearn.model_selection import train_test_split\n",
    "from sklearn.metrics import confusion_matrix\n",
    "from sklearn.ensemble import RandomForestClassifier"
   ]
  },
  {
   "cell_type": "markdown",
   "metadata": {},
   "source": [
    "Create a set of patches from an S2 image and from an output of Fmask.\n",
    "\n",
    "To prevent having to read all bands of the image into memory at once, we set the random state to ensure the same patches are extracted from each band."
   ]
  },
  {
   "cell_type": "code",
   "execution_count": 34,
   "metadata": {
    "collapsed": false
   },
   "outputs": [
    {
     "name": "stdout",
     "output_type": "stream",
     "text": [
      "1 loop, best of 1: 1min 27s per loop\n"
     ]
    }
   ],
   "source": [
    "%%timeit -n 1 -r 1\n",
    "patches = []\n",
    "seed = 101\n",
    "with rasterio.open('/data/mbp14mtp/devon/devon.tif') as src:\n",
    "    for idx in src.indexes:\n",
    "        img = src.read(idx)\n",
    "        p = extract_patches_2d(img, (3, 3),\n",
    "                               max_patches=20000,\n",
    "                               random_state=seed)\n",
    "        patches.append(p.reshape((20000, 9)))\n",
    "patches = np.stack(patches, axis=-1)"
   ]
  },
  {
   "cell_type": "markdown",
   "metadata": {},
   "source": [
    "Find the median of the 3x3 pixel patch"
   ]
  },
  {
   "cell_type": "code",
   "execution_count": 35,
   "metadata": {
    "collapsed": false
   },
   "outputs": [
    {
     "data": {
      "text/plain": [
       "(20000, 13)"
      ]
     },
     "execution_count": 35,
     "metadata": {},
     "output_type": "execute_result"
    }
   ],
   "source": [
    "patch_medians = np.median(patches, axis=1)\n",
    "patch_medians.shape"
   ]
  },
  {
   "cell_type": "code",
   "execution_count": 37,
   "metadata": {
    "collapsed": false
   },
   "outputs": [
    {
     "name": "stdout",
     "output_type": "stream",
     "text": [
      "1 loop, best of 3: 517 ms per loop\n"
     ]
    }
   ],
   "source": [
    "%%timeit -n 1 -r 3\n",
    "# get classifications from fmask\n",
    "with rasterio.open('/data/mbp14mtp/devon/devon_cloudmask.img') as src:\n",
    "    # resolution of cloudmask is only 20m as fmask was taking forever at 10m\n",
    "    img = np.repeat(np.repeat(src.read(1), 2, axis=1), 2, axis=0)\n",
    "    y = extract_patches_2d(img, (3, 3),\n",
    "                           max_patches=20000,\n",
    "                           random_state=seed)\n",
    "    y = y.reshape((20000, 9))\n",
    "    y = mode(y, axis=1)[0].reshape(20000)"
   ]
  },
  {
   "cell_type": "code",
   "execution_count": 38,
   "metadata": {
    "collapsed": true
   },
   "outputs": [],
   "source": [
    "X_train, X_test, y_train, y_test = train_test_split(\n",
    "    patch_medians, y, test_size=0.05, random_state=1010\n",
    ")"
   ]
  },
  {
   "cell_type": "code",
   "execution_count": 47,
   "metadata": {
    "collapsed": false
   },
   "outputs": [
    {
     "name": "stdout",
     "output_type": "stream",
     "text": [
      "1 loop, best of 1: 54.6 s per loop\n"
     ]
    }
   ],
   "source": [
    "%%timeit -n 1 -r 1\n",
    "rf = RandomForestClassifier(n_estimators=1000)\n",
    "rf = rf.fit(X=X_train, y=y_train)"
   ]
  },
  {
   "cell_type": "code",
   "execution_count": 46,
   "metadata": {
    "collapsed": false
   },
   "outputs": [
    {
     "data": {
      "text/plain": [
       "0.83699999999999997"
      ]
     },
     "execution_count": 46,
     "metadata": {},
     "output_type": "execute_result"
    }
   ],
   "source": [
    "rf.score(X_test, y_test)"
   ]
  },
  {
   "cell_type": "markdown",
   "metadata": {},
   "source": [
    "RF does well with the cloud, water and clear. There is not really any snow in the image. Unsuprisingly the model does not predict shade very well, I think this is because the Fmask algorithm predicts where shade should be from the angles of the satellite and the sun, rather than from the spectral data directly, or a mixture of both. Shadow is also strongly buffered in the output, so may actually contain a large amount of clear land/water"
   ]
  },
  {
   "cell_type": "code",
   "execution_count": 44,
   "metadata": {
    "collapsed": false,
    "scrolled": true
   },
   "outputs": [
    {
     "data": {
      "text/plain": [
       "array([[527,  22,  66,   0,   1],\n",
       "       [  2,  68,   4,   1,   3],\n",
       "       [ 14,   4,  42,   0,   6],\n",
       "       [  0,   0,   0,   0,   0],\n",
       "       [  0,   2,  38,   0, 200]])"
      ]
     },
     "execution_count": 44,
     "metadata": {},
     "output_type": "execute_result"
    }
   ],
   "source": [
    "# order is: clear, cloud, shadow, snow, water\n",
    "confusion_matrix(rf.predict(X_test), y_test)"
   ]
  },
  {
   "cell_type": "markdown",
   "metadata": {},
   "source": [
    "RF classifiers may be a viable option, but the real test would be to see if a classifier trained on one image or set of images, can successfully classify cloud in a totally new image."
   ]
  },
  {
   "cell_type": "code",
   "execution_count": null,
   "metadata": {
    "collapsed": true
   },
   "outputs": [],
   "source": []
  }
 ],
 "metadata": {
  "hide_input": false,
  "kernelspec": {
   "display_name": "Environment (living_maps)",
   "language": "",
   "name": "living_maps"
  },
  "language_info": {
   "codemirror_mode": {
    "name": "ipython",
    "version": 3
   },
   "file_extension": ".py",
   "mimetype": "text/x-python",
   "name": "python",
   "nbconvert_exporter": "python",
   "pygments_lexer": "ipython3",
   "version": "3.5.2"
  },
  "toc": {
   "toc_cell": false,
   "toc_number_sections": true,
   "toc_threshold": 6,
   "toc_window_display": false
  }
 },
 "nbformat": 4,
 "nbformat_minor": 0
}
